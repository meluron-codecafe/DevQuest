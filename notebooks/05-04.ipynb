{
 "cells": [
  {
   "cell_type": "code",
   "execution_count": 1,
   "id": "e75344b0-3f3c-43e6-a037-781adac150e6",
   "metadata": {},
   "outputs": [],
   "source": [
    "#hide"
   ]
  },
  {
   "cell_type": "code",
   "execution_count": 2,
   "id": "58d778ee-5eec-4819-996b-a19da7b5307b",
   "metadata": {
    "jupyter": {
     "source_hidden": true
    }
   },
   "outputs": [
    {
     "data": {
      "text/html": [
       "\n",
       "    <div style=\"\n",
       "        position: relative;\n",
       "        display: flex; \n",
       "        align-items: center; \n",
       "        justify-content: flex-start;\n",
       "        min-height: 80px;\n",
       "        width: 800px;\n",
       "        background: linear-gradient(135deg, #f5f7fa 0%, #c3cfe2 100%);\n",
       "        padding: 20px;\n",
       "        border-radius: 12px;\n",
       "        box-shadow: 0 4px 15px rgba(0, 0, 0, 0.1);\n",
       "        border: 1px solid #e1e8ed;\n",
       "        margin: 10px 0;\n",
       "        font-family: 'Segoe UI', Tahoma, Geneva, Verdana, sans-serif;\n",
       "    \">\n",
       "\n",
       "        <!-- GitHub Icon + Name in top-right -->\n",
       "        <a href=\"https://github.com/meluron-codecafe\" target=\"_blank\" style=\"\n",
       "            position: absolute;\n",
       "            top: 16px;\n",
       "            right: 20px;\n",
       "            display: flex;\n",
       "            align-items: center;\n",
       "            text-decoration: none;\n",
       "            color: #333;\n",
       "            font-size: 14px;\n",
       "            font-weight: 500;\n",
       "            gap: 6px;\n",
       "        \">\n",
       "            <img src=\"https://cdn-icons-png.flaticon.com/512/25/25231.png\" \n",
       "                 alt=\"GitHub\" \n",
       "                 style=\"width: 18px; height: 18px; display: inline-block; vertical-align: middle;\">\n",
       "            <span style=\"transform: translateY(-1px); line-height: 1;\">\n",
       "                /meluron-codecafe\n",
       "            </span>\n",
       "        </a>\n",
       "\n",
       "        <!-- Logo + Label stacked vertically -->\n",
       "        <div style=\"\n",
       "            display: flex; \n",
       "            flex-direction: column; \n",
       "            align-items: center; \n",
       "            justify-content: center;\n",
       "            margin-right: 35px;\n",
       "        \">\n",
       "            <a href=\"https://meluron-codecafe.github.io/DevQuest/\">\n",
       "                <img src=\"https://raw.githubusercontent.com/meluron/assets/refs/heads/main/logos/meluron-codecafe/DevQuest/orig.png\" \n",
       "                     alt=\"My Logo\" \n",
       "                     style=\"\n",
       "                        width: 70px; \n",
       "                        height: 70px;\n",
       "                        border-radius: 8px;\n",
       "                        box-shadow: 0 3px 10px rgba(253, 138, 9, 0.3);\n",
       "                     \">\n",
       "            </a>\n",
       "            <div style=\"\n",
       "                font-size: 13px; \n",
       "                color: #fd8a09; \n",
       "                font-weight: bold;\n",
       "                margin-top: 6px;\n",
       "                text-align: center;\n",
       "            \">\n",
       "            </div>\n",
       "        </div>\n",
       "\n",
       "        <!-- Question Badge -->\n",
       "        <div style=\"\n",
       "            font-size: 14px; \n",
       "            background: linear-gradient(135deg, #667eea, #764ba2);\n",
       "            color: white; \n",
       "            padding: 8px 14px; \n",
       "            border-radius: 20px; \n",
       "            display: inline-flex;\n",
       "            align-items: center;\n",
       "            gap: 6px;\n",
       "            font-weight: 600;\n",
       "            box-shadow: 0 3px 12px rgba(102, 126, 234, 0.3);\n",
       "        \">\n",
       "            <span style=\"font-size: 16px;\">❔</span>\n",
       "            How to deal with a collection of objects?\n",
       "            \n",
       "        </div>\n",
       "    </div>\n",
       "    "
      ],
      "text/plain": [
       "<IPython.core.display.HTML object>"
      ]
     },
     "metadata": {},
     "output_type": "display_data"
    }
   ],
   "source": [
    "#hide\n",
    "import utils\n",
    "utils.hero(\"How to deal with a collection of objects?\")"
   ]
  },
  {
   "cell_type": "code",
   "execution_count": 3,
   "id": "cbf98e60-9934-4c7c-abe7-6b157a952b21",
   "metadata": {
    "jupyter": {
     "source_hidden": true
    }
   },
   "outputs": [
    {
     "data": {
      "text/html": [
       "\n",
       "        <div style=\"\n",
       "            margin: 25px 0 15px 0;\n",
       "            padding: 0;\n",
       "        \">\n",
       "            <h2 style=\"\n",
       "                font-size: 24px;\n",
       "                font-weight: 600;\n",
       "                color: #2c3e50;\n",
       "                margin: 0;\n",
       "                padding: 12px 0 8px 0;\n",
       "                display: inline-block;\n",
       "                font-family: 'Segoe UI', Tahoma, Geneva, Verdana, sans-serif;\n",
       "                background: linear-gradient(135deg, #667eea, #764ba2);\n",
       "                -webkit-background-clip: text;\n",
       "                -webkit-text-fill-color: transparent;\n",
       "                background-clip: text;\n",
       "            \">▶ What are data structures?</h2>\n",
       "        </div>\n",
       "    "
      ],
      "text/plain": [
       "<IPython.core.display.HTML object>"
      ]
     },
     "metadata": {},
     "output_type": "display_data"
    }
   ],
   "source": [
    "#hide\n",
    "utils.h1(\"What are data structures?\")"
   ]
  },
  {
   "cell_type": "markdown",
   "id": "17e4924e-32bc-44c9-953b-4884f3aa22f8",
   "metadata": {},
   "source": [
    "In most real world scenerio, we interact with not just one data point but multiple, so we need to design some sort of optimised structure to hold multiple data points together. That is what we mean by **data structure**. \\\n",
    "A **data structure** defines a particular way of **storing**, **organizing**, **manipulating** and **accessing** a collection of data efficiently. For example, a list of friends, a dictionary (key-value pair)"
   ]
  },
  {
   "cell_type": "markdown",
   "id": "7eac696b-2e11-4114-a4c4-2827737509f0",
   "metadata": {},
   "source": [
    "<table border=\"1\" cellpadding=\"6\" cellspacing=\"0\">\n",
    "  <thead>\n",
    "    <tr>\n",
    "      <th>Data Structure</th>\n",
    "      <th>Type</th>\n",
    "      <th>Mutable?</th>\n",
    "      <th>Ordered?</th>\n",
    "      <th>Allows Duplicates?</th>\n",
    "      <th>Example</th>\n",
    "    </tr>\n",
    "  </thead>\n",
    "  <tbody>\n",
    "    <tr>\n",
    "      <td>list</td>\n",
    "      <td>Built-in</td>\n",
    "      <td>Yes</td>\n",
    "      <td>Yes</td>\n",
    "      <td>Yes</td>\n",
    "      <td>[1, 2, 3, 2]</td>\n",
    "    </tr>\n",
    "    <tr>\n",
    "      <td>tuple</td>\n",
    "      <td>Built-in</td>\n",
    "      <td>No</td>\n",
    "      <td>Yes</td>\n",
    "      <td>Yes</td>\n",
    "      <td>(1, 2, 3)</td>\n",
    "    </tr>\n",
    "    <tr>\n",
    "      <td>set</td>\n",
    "      <td>Built-in</td>\n",
    "      <td>Yes</td>\n",
    "      <td>No</td>\n",
    "      <td>No</td>\n",
    "      <td>{1, 2, 3}</td>\n",
    "    </tr>\n",
    "    <tr>\n",
    "      <td>frozenset</td>\n",
    "      <td>Built-in</td>\n",
    "      <td>No</td>\n",
    "      <td>No</td>\n",
    "      <td>No</td>\n",
    "      <td>frozenset({1, 2})</td>\n",
    "    </tr>\n",
    "    <tr>\n",
    "      <td>dict</td>\n",
    "      <td>Built-in</td>\n",
    "      <td>Yes</td>\n",
    "      <td>Yes</td>\n",
    "      <td>Keys: No<br>Values: Yes</td>\n",
    "      <td>{\"a\": 1, \"b\": 2}</td>\n",
    "    </tr>\n",
    "    <tr>\n",
    "      <td>deque</td>\n",
    "      <td>From <code>collections</code></td>\n",
    "      <td>Yes</td>\n",
    "      <td>Yes</td>\n",
    "      <td>Yes</td>\n",
    "      <td>deque([1, 2, 3])</td>\n",
    "    </tr>\n",
    "    <tr>\n",
    "      <td>defaultdict</td>\n",
    "      <td>From <code>collections</code></td>\n",
    "      <td>Yes</td>\n",
    "      <td>Yes</td>\n",
    "      <td>Keys: No<br>Values: Yes</td>\n",
    "      <td>defaultdict(int)</td>\n",
    "    </tr>\n",
    "    <tr>\n",
    "      <td>OrderedDict</td>\n",
    "      <td>From <code>collections</code></td>\n",
    "      <td>Yes</td>\n",
    "      <td>Yes</td>\n",
    "      <td>Keys: No<br>Values: Yes</td>\n",
    "      <td>OrderedDict()</td>\n",
    "    </tr>\n",
    "    <tr>\n",
    "      <td>namedtuple</td>\n",
    "      <td>From <code>collections</code></td>\n",
    "      <td>No</td>\n",
    "      <td>Yes</td>\n",
    "      <td>Yes</td>\n",
    "      <td>Point(x=1, y=2)</td>\n",
    "    </tr>\n",
    "  </tbody>\n",
    "</table>\n"
   ]
  },
  {
   "cell_type": "code",
   "execution_count": null,
   "id": "669c71ed-ad76-4d15-b685-1f29c6206fe3",
   "metadata": {},
   "outputs": [],
   "source": []
  },
  {
   "cell_type": "code",
   "execution_count": null,
   "id": "60107675-1f38-42a1-8d43-8e3d847b6b61",
   "metadata": {},
   "outputs": [],
   "source": []
  },
  {
   "cell_type": "code",
   "execution_count": null,
   "id": "d4d74d9e-5dbf-4151-a359-690fcf6d5e9d",
   "metadata": {},
   "outputs": [],
   "source": []
  },
  {
   "cell_type": "code",
   "execution_count": null,
   "id": "2443ce19-16ff-4e3d-bca7-d720f894cd49",
   "metadata": {},
   "outputs": [],
   "source": []
  },
  {
   "cell_type": "code",
   "execution_count": null,
   "id": "46f4a174-338a-438e-8e56-35bd564e4d53",
   "metadata": {},
   "outputs": [],
   "source": []
  },
  {
   "cell_type": "code",
   "execution_count": null,
   "id": "d1eb761f-3b4c-4f86-898c-84e9d5560735",
   "metadata": {},
   "outputs": [],
   "source": []
  }
 ],
 "metadata": {
  "kernelspec": {
   "display_name": "Python 3 (ipykernel)",
   "language": "python",
   "name": "python3"
  },
  "language_info": {
   "codemirror_mode": {
    "name": "ipython",
    "version": 3
   },
   "file_extension": ".py",
   "mimetype": "text/x-python",
   "name": "python",
   "nbconvert_exporter": "python",
   "pygments_lexer": "ipython3",
   "version": "3.12.0"
  }
 },
 "nbformat": 4,
 "nbformat_minor": 5
}
