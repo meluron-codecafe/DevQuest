{
 "cells": [
  {
   "cell_type": "code",
   "execution_count": 2,
   "id": "87a35685-e52e-4589-9a7c-d53607abbe3e",
   "metadata": {},
   "outputs": [],
   "source": [
    "#hide"
   ]
  },
  {
   "cell_type": "code",
   "execution_count": 2,
   "id": "8c4e818b-ba1b-42fd-b94b-40e03c30b8fb",
   "metadata": {
    "jupyter": {
     "source_hidden": true
    }
   },
   "outputs": [
    {
     "data": {
      "text/html": [
       "\n",
       "    <div style=\"\n",
       "        position: relative;\n",
       "        display: flex; \n",
       "        align-items: center; \n",
       "        justify-content: flex-start;\n",
       "        min-height: 80px;\n",
       "        width: 800px;\n",
       "        background: linear-gradient(135deg, #f5f7fa 0%, #c3cfe2 100%);\n",
       "        padding: 20px;\n",
       "        border-radius: 12px;\n",
       "        box-shadow: 0 4px 15px rgba(0, 0, 0, 0.1);\n",
       "        border: 1px solid #e1e8ed;\n",
       "        margin: 10px 0;\n",
       "        font-family: 'Segoe UI', Tahoma, Geneva, Verdana, sans-serif;\n",
       "    \">\n",
       "\n",
       "        <!-- GitHub Icon + Name in top-right -->\n",
       "        <a href=\"https://github.com/meluron-codecafe\" target=\"_blank\" style=\"\n",
       "            position: absolute;\n",
       "            top: 16px;\n",
       "            right: 20px;\n",
       "            display: flex;\n",
       "            align-items: center;\n",
       "            text-decoration: none;\n",
       "            color: #333;\n",
       "            font-size: 14px;\n",
       "            font-weight: 500;\n",
       "            gap: 6px;\n",
       "        \">\n",
       "            <img src=\"https://cdn-icons-png.flaticon.com/512/25/25231.png\" \n",
       "                 alt=\"GitHub\" \n",
       "                 style=\"width: 18px; height: 18px; display: inline-block; vertical-align: middle;\">\n",
       "            <span style=\"transform: translateY(-1px); line-height: 1;\">\n",
       "                /meluron-codecafe\n",
       "            </span>\n",
       "        </a>\n",
       "\n",
       "        <!-- Logo + Label stacked vertically -->\n",
       "        <div style=\"\n",
       "            display: flex; \n",
       "            flex-direction: column; \n",
       "            align-items: center; \n",
       "            justify-content: center;\n",
       "            margin-right: 35px;\n",
       "        \">\n",
       "            <a href=\"https://meluron-codecafe.github.io/DevQuest/\">\n",
       "                <img src=\"https://raw.githubusercontent.com/meluron/assets/refs/heads/main/logos/meluron-codecafe/DevQuest/orig.png\" \n",
       "                     alt=\"My Logo\" \n",
       "                     style=\"\n",
       "                        width: 70px; \n",
       "                        height: 70px;\n",
       "                        border-radius: 8px;\n",
       "                        box-shadow: 0 3px 10px rgba(253, 138, 9, 0.3);\n",
       "                     \">\n",
       "            </a>\n",
       "            <div style=\"\n",
       "                font-size: 13px; \n",
       "                color: #fd8a09; \n",
       "                font-weight: bold;\n",
       "                margin-top: 6px;\n",
       "                text-align: center;\n",
       "            \">\n",
       "            </div>\n",
       "        </div>\n",
       "\n",
       "        <!-- Question Badge -->\n",
       "        <div style=\"\n",
       "            font-size: 14px; \n",
       "            background: linear-gradient(135deg, #667eea, #764ba2);\n",
       "            color: white; \n",
       "            padding: 8px 14px; \n",
       "            border-radius: 20px; \n",
       "            display: inline-flex;\n",
       "            align-items: center;\n",
       "            gap: 6px;\n",
       "            font-weight: 600;\n",
       "            box-shadow: 0 3px 12px rgba(102, 126, 234, 0.3);\n",
       "        \">\n",
       "            <span style=\"font-size: 16px;\">❔</span>\n",
       "            What are the methods available for different primitive datatypes?\n",
       "            \n",
       "        </div>\n",
       "    </div>\n",
       "    "
      ],
      "text/plain": [
       "<IPython.core.display.HTML object>"
      ]
     },
     "metadata": {},
     "output_type": "display_data"
    }
   ],
   "source": [
    "#hide\n",
    "import utils\n",
    "utils.hero(\"What are the methods available for different primitive datatypes?\")"
   ]
  },
  {
   "cell_type": "code",
   "execution_count": 12,
   "id": "093f97df-eca0-434a-bf48-360d5ce9e399",
   "metadata": {
    "jupyter": {
     "source_hidden": true
    }
   },
   "outputs": [
    {
     "data": {
      "text/html": [
       "\n",
       "        <div style=\"\n",
       "            margin: 25px 0 15px 0;\n",
       "            padding: 0;\n",
       "        \">\n",
       "            <h2 style=\"\n",
       "                font-size: 24px;\n",
       "                font-weight: 600;\n",
       "                color: #2c3e50;\n",
       "                margin: 0;\n",
       "                padding: 12px 0 8px 0;\n",
       "                display: inline-block;\n",
       "                font-family: 'Segoe UI', Tahoma, Geneva, Verdana, sans-serif;\n",
       "                background: linear-gradient(135deg, #667eea, #764ba2);\n",
       "                -webkit-background-clip: text;\n",
       "                -webkit-text-fill-color: transparent;\n",
       "                background-clip: text;\n",
       "            \">▶ Integer</h2>\n",
       "        </div>\n",
       "    "
      ],
      "text/plain": [
       "<IPython.core.display.HTML object>"
      ]
     },
     "metadata": {},
     "output_type": "display_data"
    }
   ],
   "source": [
    "#utis\n",
    "utils.h1(\"Integer\")"
   ]
  },
  {
   "cell_type": "code",
   "execution_count": 13,
   "id": "39434ae9-9ed4-4ccd-845b-36455ec9c770",
   "metadata": {
    "jupyter": {
     "source_hidden": true
    }
   },
   "outputs": [
    {
     "data": {
      "text/html": [
       "\n",
       "        <div style=\"\n",
       "            margin: 25px 0 15px 0;\n",
       "            padding: 0;\n",
       "        \">\n",
       "            <h2 style=\"\n",
       "                font-size: 24px;\n",
       "                font-weight: 600;\n",
       "                color: #2c3e50;\n",
       "                margin: 0;\n",
       "                padding: 12px 0 8px 0;\n",
       "                display: inline-block;\n",
       "                font-family: 'Segoe UI', Tahoma, Geneva, Verdana, sans-serif;\n",
       "                background: linear-gradient(135deg, #667eea, #764ba2);\n",
       "                -webkit-background-clip: text;\n",
       "                -webkit-text-fill-color: transparent;\n",
       "                background-clip: text;\n",
       "            \">▶ Float</h2>\n",
       "        </div>\n",
       "    "
      ],
      "text/plain": [
       "<IPython.core.display.HTML object>"
      ]
     },
     "metadata": {},
     "output_type": "display_data"
    }
   ],
   "source": [
    "#utis\n",
    "utils.h1(\"Float\")"
   ]
  },
  {
   "cell_type": "code",
   "execution_count": 10,
   "id": "aedf8274-2090-4dba-9592-595157a3ed8c",
   "metadata": {
    "jupyter": {
     "source_hidden": true
    }
   },
   "outputs": [
    {
     "data": {
      "text/html": [
       "\n",
       "        <div style=\"\n",
       "            margin: 25px 0 15px 0;\n",
       "            padding: 0;\n",
       "        \">\n",
       "            <h2 style=\"\n",
       "                font-size: 24px;\n",
       "                font-weight: 600;\n",
       "                color: #2c3e50;\n",
       "                margin: 0;\n",
       "                padding: 12px 0 8px 0;\n",
       "                display: inline-block;\n",
       "                font-family: 'Segoe UI', Tahoma, Geneva, Verdana, sans-serif;\n",
       "                background: linear-gradient(135deg, #667eea, #764ba2);\n",
       "                -webkit-background-clip: text;\n",
       "                -webkit-text-fill-color: transparent;\n",
       "                background-clip: text;\n",
       "            \">▶ Boolean</h2>\n",
       "        </div>\n",
       "    "
      ],
      "text/plain": [
       "<IPython.core.display.HTML object>"
      ]
     },
     "metadata": {},
     "output_type": "display_data"
    }
   ],
   "source": [
    "#utis\n",
    "utils.h1(\"Boolean\")"
   ]
  },
  {
   "cell_type": "code",
   "execution_count": 9,
   "id": "2fb64b2e-ef78-46b4-8760-8a34f71620e4",
   "metadata": {
    "jupyter": {
     "source_hidden": true
    }
   },
   "outputs": [
    {
     "data": {
      "text/html": [
       "\n",
       "        <div style=\"\n",
       "            margin: 25px 0 15px 0;\n",
       "            padding: 0;\n",
       "        \">\n",
       "            <h2 style=\"\n",
       "                font-size: 24px;\n",
       "                font-weight: 600;\n",
       "                color: #2c3e50;\n",
       "                margin: 0;\n",
       "                padding: 12px 0 8px 0;\n",
       "                display: inline-block;\n",
       "                font-family: 'Segoe UI', Tahoma, Geneva, Verdana, sans-serif;\n",
       "                background: linear-gradient(135deg, #667eea, #764ba2);\n",
       "                -webkit-background-clip: text;\n",
       "                -webkit-text-fill-color: transparent;\n",
       "                background-clip: text;\n",
       "            \">▶ NoneType</h2>\n",
       "        </div>\n",
       "    "
      ],
      "text/plain": [
       "<IPython.core.display.HTML object>"
      ]
     },
     "metadata": {},
     "output_type": "display_data"
    }
   ],
   "source": [
    "#utis\n",
    "utils.h1(\"NoneType\")"
   ]
  },
  {
   "cell_type": "code",
   "execution_count": 11,
   "id": "25ee0546-29e9-4ed9-9963-8209cccd671d",
   "metadata": {
    "jupyter": {
     "source_hidden": true
    }
   },
   "outputs": [
    {
     "data": {
      "text/html": [
       "\n",
       "        <div style=\"\n",
       "            margin: 25px 0 15px 0;\n",
       "            padding: 0;\n",
       "        \">\n",
       "            <h2 style=\"\n",
       "                font-size: 24px;\n",
       "                font-weight: 600;\n",
       "                color: #2c3e50;\n",
       "                margin: 0;\n",
       "                padding: 12px 0 8px 0;\n",
       "                display: inline-block;\n",
       "                font-family: 'Segoe UI', Tahoma, Geneva, Verdana, sans-serif;\n",
       "                background: linear-gradient(135deg, #667eea, #764ba2);\n",
       "                -webkit-background-clip: text;\n",
       "                -webkit-text-fill-color: transparent;\n",
       "                background-clip: text;\n",
       "            \">▶ String</h2>\n",
       "        </div>\n",
       "    "
      ],
      "text/plain": [
       "<IPython.core.display.HTML object>"
      ]
     },
     "metadata": {},
     "output_type": "display_data"
    }
   ],
   "source": [
    "#utis\n",
    "utils.h1(\"String\")"
   ]
  }
 ],
 "metadata": {
  "kernelspec": {
   "display_name": "Python 3 (ipykernel)",
   "language": "python",
   "name": "python3"
  },
  "language_info": {
   "codemirror_mode": {
    "name": "ipython",
    "version": 3
   },
   "file_extension": ".py",
   "mimetype": "text/x-python",
   "name": "python",
   "nbconvert_exporter": "python",
   "pygments_lexer": "ipython3",
   "version": "3.12.0"
  }
 },
 "nbformat": 4,
 "nbformat_minor": 5
}
